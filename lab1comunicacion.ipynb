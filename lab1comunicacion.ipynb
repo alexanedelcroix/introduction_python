{
 "cells": [
  {
   "cell_type": "markdown",
   "id": "0ff1f5cc",
   "metadata": {},
   "source": [
    "# Introductory course to the programming language Python"
   ]
  },
  {
   "cell_type": "markdown",
   "id": "24a97cd3",
   "metadata": {},
   "source": [
    "Example 1: We assign the values to two variables and we sum them. Afterwards, we print the result of the sum."
   ]
  },
  {
   "cell_type": "code",
   "execution_count": 1,
   "id": "f771edd2",
   "metadata": {},
   "outputs": [
    {
     "name": "stdout",
     "output_type": "stream",
     "text": [
      "The sum of a + b is = 9\n"
     ]
    }
   ],
   "source": [
    "a = 2\n",
    "b = 4\n",
    "c = a + b\n",
    "\n",
    "print(\"The sum of a + b is = %g\"%c)"
   ]
  },
  {
   "cell_type": "markdown",
   "id": "0d8bfa0a",
   "metadata": {},
   "source": [
    "Example 2: Example of a function. A function is a code framgent able to execute an action. Functions in Python are declared with the keyword 'def', followed by the name of the function and a set of parentheses where the arguments are specified.\n",
    "\n",
    "In this example we define a function \"minus\" that takes two variables as positional arguments and prints their difference."
   ]
  },
  {
   "cell_type": "code",
   "execution_count": 10,
   "id": "f111571e",
   "metadata": {},
   "outputs": [
    {
     "name": "stdout",
     "output_type": "stream",
     "text": [
      "a = 5, b = 1\n",
      "a minus b is = 4\n"
     ]
    }
   ],
   "source": [
    "def minus(a,b):\n",
    "    c = a - b\n",
    "    print(\"a = %g, b = %g\" %(a,b))\n",
    "    print(\"a minus b is = %g\"%c)\n",
    "    return c\n",
    "\n",
    "a = 2\n",
    "b = 4\n",
    "c = minus(a,b)\n"
   ]
  },
  {
   "cell_type": "markdown",
   "id": "b7d78c8f",
   "metadata": {},
   "source": [
    "The order of the arguments is important:"
   ]
  },
  {
   "cell_type": "code",
   "execution_count": 11,
   "id": "b3184cac",
   "metadata": {},
   "outputs": [
    {
     "name": "stdout",
     "output_type": "stream",
     "text": [
      "a = 1, b = 5\n",
      "a minus b is = -4\n"
     ]
    }
   ],
   "source": [
    "a = 2\n",
    "b = 4\n",
    "c = minus(b,a)\n"
   ]
  },
  {
   "cell_type": "markdown",
   "id": "7340c54a",
   "metadata": {},
   "source": [
    "If you want the order not to matter, you can pass the arguments using keyword arguments."
   ]
  },
  {
   "cell_type": "code",
   "execution_count": 12,
   "id": "bed0a49f",
   "metadata": {},
   "outputs": [
    {
     "name": "stdout",
     "output_type": "stream",
     "text": [
      "a = 2, b = 4\n",
      "a minus b is = -2\n"
     ]
    }
   ],
   "source": [
    "def minus(a = 0, b = 0):\n",
    "    c = a - b\n",
    "    print(\"a = %g, b = %g\"%(a,b))\n",
    "    print(\"a minus b is = %g\"%c)\n",
    "    return c\n",
    "\n",
    "value_a = 2\n",
    "value_b = 4\n",
    "c = minus(b = value_b,a = value_a)"
   ]
  },
  {
   "cell_type": "markdown",
   "id": "a6ec9259",
   "metadata": {},
   "source": [
    "Example 3: conditionals (change the value of \"a\" and check how the result changes)"
   ]
  },
  {
   "cell_type": "code",
   "execution_count": 8,
   "id": "6a9f8d84",
   "metadata": {},
   "outputs": [
    {
     "name": "stdout",
     "output_type": "stream",
     "text": [
      "less than 10\n"
     ]
    }
   ],
   "source": [
    "a = 5\n",
    "if a < 3:\n",
    "    print(\"less than 3\")\n",
    "elif a < 5:\n",
    "    print(\"less than 5\")\n",
    "elif a < 10:\n",
    "    print(\"less than 10\")\n",
    "else:\n",
    "    print(\"other\")"
   ]
  },
  {
   "cell_type": "code",
   "execution_count": 13,
   "id": "c40c1437",
   "metadata": {},
   "outputs": [
    {
     "name": "stdout",
     "output_type": "stream",
     "text": [
      "Name is not James\n"
     ]
    }
   ],
   "source": [
    "name = \"Pol\"\n",
    "if name == \"James\":\n",
    "    print(\"James\")\n",
    "else:\n",
    "    print(\"Name is not James\")"
   ]
  },
  {
   "cell_type": "markdown",
   "id": "986f1c5c",
   "metadata": {},
   "source": [
    "Example 4: while. Executes an action while a condition is met.\n"
   ]
  },
  {
   "cell_type": "code",
   "execution_count": 14,
   "id": "712b7a74",
   "metadata": {},
   "outputs": [
    {
     "name": "stdout",
     "output_type": "stream",
     "text": [
      "0\n",
      "1\n",
      "2\n",
      "3\n",
      "4\n",
      "5\n"
     ]
    }
   ],
   "source": [
    "a = 0\n",
    "while a < 6:\n",
    "    print(a)\n",
    "    a += 1"
   ]
  }
 ],
 "metadata": {
  "kernelspec": {
   "display_name": "Python 3 (ipykernel)",
   "language": "python",
   "name": "python3"
  },
  "language_info": {
   "codemirror_mode": {
    "name": "ipython",
    "version": 3
   },
   "file_extension": ".py",
   "mimetype": "text/x-python",
   "name": "python",
   "nbconvert_exporter": "python",
   "pygments_lexer": "ipython3",
   "version": "3.9.7"
  }
 },
 "nbformat": 4,
 "nbformat_minor": 5
}
